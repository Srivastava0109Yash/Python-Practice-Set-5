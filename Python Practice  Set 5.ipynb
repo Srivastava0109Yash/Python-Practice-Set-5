{
 "cells": [
  {
   "cell_type": "markdown",
   "id": "a0ac4ea7",
   "metadata": {},
   "source": [
    "### Q1.Can you create a Python program that reads a text file and counts the number of words contained within it? The program should be designed to read the file and break it down into individual words, using spaces, punctuation marks, and other delimiters to separate the words. It should then count the number of words found in the file and display this count as output. The program should be flexible enough to work with different text files and should be able to handle a variety of formatting and punctuation styles."
   ]
  },
  {
   "cell_type": "code",
   "execution_count": 1,
   "id": "827419d0",
   "metadata": {},
   "outputs": [],
   "source": [
    "filename = \"example.txt\"\n",
    "text = \"This is an example text that we will write to a file.\"\n",
    "\n",
    "with open(filename, 'w') as f:\n",
    "    f.write(text)\n",
    "    f.close()"
   ]
  },
  {
   "cell_type": "code",
   "execution_count": 2,
   "id": "76e9734d",
   "metadata": {},
   "outputs": [
    {
     "name": "stdout",
     "output_type": "stream",
     "text": [
      "The file \"example.txt\" contains 12 words.\n"
     ]
    }
   ],
   "source": [
    "with open(\"example.txt\", \"r\") as file:\n",
    "    words = file.read().split()\n",
    "num_words = len(words)   \n",
    "print(f'The file \"{filename}\" contains {num_words} words.')"
   ]
  },
  {
   "cell_type": "markdown",
   "id": "256d7105",
   "metadata": {},
   "source": [
    "### Q2. Could you help me create a Python program that can find and display the longest word in a text file? The program should be able to read any text file and separate its contents into individual words, taking into account various delimiters like spaces, punctuation marks, and other characters. Then, it should compare the length of each word and determine which one is the longest, and finally, print that word as output. The program should be versatile enough to work with various text files and be able to handle different formatting styles and punctuation."
   ]
  },
  {
   "cell_type": "code",
   "execution_count": 16,
   "id": "f8e2cb21",
   "metadata": {},
   "outputs": [],
   "source": [
    "file = \"example.txt\"\n",
    "text = \"This is an example text that we will write to a file.\"\n",
    "\n",
    "with open(file, 'w') as f:\n",
    "    f.write(text)"
   ]
  },
  {
   "cell_type": "code",
   "execution_count": 20,
   "id": "0611404f",
   "metadata": {},
   "outputs": [
    {
     "name": "stdout",
     "output_type": "stream",
     "text": [
      "The longest word is example of length 7\n"
     ]
    }
   ],
   "source": [
    "with open('example.txt','r') as f:\n",
    "    text=f.read().split()\n",
    "    \n",
    "longest_word=max(words,key=len)\n",
    "length=len(longest_word)\n",
    "\n",
    "print(f\"The longest word is {longest_word} of length {length}\")"
   ]
  },
  {
   "cell_type": "markdown",
   "id": "010cfe4b",
   "metadata": {},
   "source": [
    "### Q3.Write a Python program to read a text file and print out the most frequent word(s) in the file."
   ]
  },
  {
   "cell_type": "code",
   "execution_count": 30,
   "id": "e6f928f3",
   "metadata": {},
   "outputs": [],
   "source": [
    "file = \"example.txt\"\n",
    "text = '''This is an example text file that we will write to a file.\n",
    "           Hello this is a file that is it is'''\n",
    "\n",
    "with open(file, 'w') as f:\n",
    "    f.write(text)"
   ]
  },
  {
   "cell_type": "code",
   "execution_count": 31,
   "id": "4b7756ed",
   "metadata": {},
   "outputs": [
    {
     "name": "stdout",
     "output_type": "stream",
     "text": [
      "The 10 most frequent words in the file 'example.txt' are:\n",
      "is: 4\n",
      "file: 3\n",
      "this: 2\n",
      "that: 2\n",
      "a: 2\n",
      "an: 1\n",
      "example: 1\n",
      "text: 1\n",
      "we: 1\n",
      "will: 1\n"
     ]
    }
   ],
   "source": [
    "import string\n",
    "from collections import Counter\n",
    "\n",
    "def most_frequent_words(filename, n):\n",
    "    with open(filename, 'r') as f:\n",
    "        text = f.read().lower() \n",
    "        for p in string.punctuation:\n",
    "            text = text.replace(p, ' ')\n",
    "        words = text.split() \n",
    "        return Counter(words).most_common(n)\n",
    "\n",
    "filename = 'example.txt'\n",
    "n = 10\n",
    "most_frequent = most_frequent_words(filename, n)\n",
    "print(f\"The {n} most frequent words in the file '{filename}' are:\")\n",
    "for word, count in most_frequent:\n",
    "    \n",
    "    print(f\"{word}: {count}\")\n"
   ]
  },
  {
   "cell_type": "markdown",
   "id": "0d273271",
   "metadata": {},
   "source": [
    "### Q4. How can you use Python to count the number of rows in a CSV file?"
   ]
  },
  {
   "cell_type": "code",
   "execution_count": 37,
   "id": "cf056b38",
   "metadata": {},
   "outputs": [
    {
     "ename": "FileNotFoundError",
     "evalue": "[Errno 2] No such file or directory: 'Unemployment in India.csv'",
     "output_type": "error",
     "traceback": [
      "\u001b[1;31m---------------------------------------------------------------------------\u001b[0m",
      "\u001b[1;31mFileNotFoundError\u001b[0m                         Traceback (most recent call last)",
      "\u001b[1;32m~\\AppData\\Local\\Temp/ipykernel_17656/2418804135.py\u001b[0m in \u001b[0;36m<module>\u001b[1;34m\u001b[0m\n\u001b[0;32m      3\u001b[0m \u001b[0mfilename\u001b[0m\u001b[1;33m=\u001b[0m\u001b[1;34m\"Unemployment in India.csv\"\u001b[0m\u001b[1;33m\u001b[0m\u001b[1;33m\u001b[0m\u001b[0m\n\u001b[0;32m      4\u001b[0m \u001b[1;33m\u001b[0m\u001b[0m\n\u001b[1;32m----> 5\u001b[1;33m \u001b[1;32mwith\u001b[0m \u001b[0mopen\u001b[0m \u001b[1;33m(\u001b[0m\u001b[0mfilename\u001b[0m\u001b[1;33m,\u001b[0m\u001b[1;34m'r'\u001b[0m\u001b[1;33m)\u001b[0m \u001b[1;32mas\u001b[0m \u001b[0mcsvf\u001b[0m\u001b[1;33m:\u001b[0m\u001b[1;33m\u001b[0m\u001b[1;33m\u001b[0m\u001b[0m\n\u001b[0m\u001b[0;32m      6\u001b[0m     \u001b[0mread\u001b[0m\u001b[1;33m=\u001b[0m\u001b[0mcsv\u001b[0m\u001b[1;33m.\u001b[0m\u001b[0mreader\u001b[0m\u001b[1;33m(\u001b[0m\u001b[0mcsvf\u001b[0m\u001b[1;33m)\u001b[0m\u001b[1;33m\u001b[0m\u001b[1;33m\u001b[0m\u001b[0m\n\u001b[0;32m      7\u001b[0m     \u001b[0mrows\u001b[0m\u001b[1;33m=\u001b[0m\u001b[0msum\u001b[0m\u001b[1;33m(\u001b[0m\u001b[1;36m1\u001b[0m \u001b[1;32mfor\u001b[0m \u001b[0mrow\u001b[0m \u001b[1;32min\u001b[0m \u001b[0mreader\u001b[0m\u001b[1;33m)\u001b[0m\u001b[1;33m\u001b[0m\u001b[1;33m\u001b[0m\u001b[0m\n",
      "\u001b[1;31mFileNotFoundError\u001b[0m: [Errno 2] No such file or directory: 'Unemployment in India.csv'"
     ]
    }
   ],
   "source": [
    "import csv\n",
    "\n",
    "filename=\"Unemployment in India.csv\"\n",
    "\n",
    "with open (filename,'r') as csvf:\n",
    "    read=csv.reader(csvf)\n",
    "    rows=sum(1 for row in reader)\n",
    "    \n",
    "print(\"Total rows are: \",rows)    "
   ]
  },
  {
   "cell_type": "code",
   "execution_count": null,
   "id": "c0f73d52",
   "metadata": {},
   "outputs": [],
   "source": []
  }
 ],
 "metadata": {
  "kernelspec": {
   "display_name": "Python 3 (ipykernel)",
   "language": "python",
   "name": "python3"
  },
  "language_info": {
   "codemirror_mode": {
    "name": "ipython",
    "version": 3
   },
   "file_extension": ".py",
   "mimetype": "text/x-python",
   "name": "python",
   "nbconvert_exporter": "python",
   "pygments_lexer": "ipython3",
   "version": "3.9.7"
  }
 },
 "nbformat": 4,
 "nbformat_minor": 5
}
